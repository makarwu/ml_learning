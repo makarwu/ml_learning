{
 "cells": [
  {
   "cell_type": "code",
   "execution_count": 5,
   "id": "9bd50a93-f191-4de5-9990-0daeb11bd404",
   "metadata": {},
   "outputs": [
    {
     "ename": "TypeError",
     "evalue": "'function' object is not subscriptable",
     "output_type": "error",
     "traceback": [
      "\u001b[0;31m---------------------------------------------------------------------------\u001b[0m",
      "\u001b[0;31mTypeError\u001b[0m                                 Traceback (most recent call last)",
      "Cell \u001b[0;32mIn[5], line 18\u001b[0m\n\u001b[1;32m     15\u001b[0m     W \u001b[38;5;241m=\u001b[39m np\u001b[38;5;241m.\u001b[39mrandom\u001b[38;5;241m.\u001b[39mrandn(fan_in, fan_out) \u001b[38;5;241m*\u001b[39m \u001b[38;5;241m0.01\u001b[39m \u001b[38;5;66;03m# layer initialization\u001b[39;00m\n\u001b[1;32m     17\u001b[0m     H \u001b[38;5;241m=\u001b[39m np\u001b[38;5;241m.\u001b[39mdot(X, W) \u001b[38;5;66;03m# matix multiply\u001b[39;00m\n\u001b[0;32m---> 18\u001b[0m     H \u001b[38;5;241m=\u001b[39m \u001b[43mact\u001b[49m\u001b[43m[\u001b[49m\u001b[43mnonlinearities\u001b[49m\u001b[43m[\u001b[49m\u001b[43mi\u001b[49m\u001b[43m]\u001b[49m\u001b[43m]\u001b[49m\u001b[43m[\u001b[49m\u001b[43mH\u001b[49m\u001b[43m]\u001b[49m \u001b[38;5;66;03m# nonlinearity\u001b[39;00m\n\u001b[1;32m     19\u001b[0m     Hs[i] \u001b[38;5;241m=\u001b[39m H \u001b[38;5;66;03m# cache result on this layer\u001b[39;00m\n\u001b[1;32m     21\u001b[0m \u001b[38;5;66;03m# look at the distribution at each layer\u001b[39;00m\n",
      "\u001b[0;31mTypeError\u001b[0m: 'function' object is not subscriptable"
     ]
    }
   ],
   "source": [
    "import numpy as np\n",
    "import matplotlib.pyplot as plt\n",
    "\n",
    "# assume we have some unit gaussian 10-D input data\n",
    "D = np.random.randn(1000, 500)\n",
    "hidden_layer_sizes = [500]*10\n",
    "nonlinearities = ['tanh']*len(hidden_layer_sizes)\n",
    "\n",
    "act = {'relu': lambda x:np.maximum(0, x), 'tanh': lambda x:np.tanh(x)}\n",
    "Hs = {}\n",
    "for i in range(len(hidden_layer_sizes)):\n",
    "    X = D if i == 0 else Hs[i-1] # input at this layer\n",
    "    fan_in = X.shape[1]\n",
    "    fan_out = hidden_layer_sizes[i]\n",
    "    W = np.random.randn(fan_in, fan_out) * 0.01 # layer initialization\n",
    "\n",
    "    H = np.dot(X, W) # matix multiply\n",
    "    H = act[nonlinearities[i]](H) # nonlinearity\n",
    "    Hs[i] = H # cache result on this layer\n",
    "\n",
    "# look at the distribution at each layer\n",
    "print('input layer had mean %f and std %f' % (np.mean(D), np.std(D)))\n",
    "layer_means = [np.mean(H) for i, H in Hs.iteritems()]\n",
    "layer_stds = [np.std(H) for i, H in Hs.iteritems()]\n",
    "for i, H in Hs.iteritems():\n",
    "    print('hidden layer %d had mean %f and std %f' % (i+1, layer_means[i], layer_stds[i]))\n",
    "\n",
    "# plot the means and deviations\n",
    "plt.figure()\n",
    "plt.subplot(121)\n",
    "plt.plot(Hs.keys(), layer_means, 'ob-')\n",
    "plt.title('layer mean')\n",
    "plt.subplot(Hs.keys(), layer_stds, 'or-')\n",
    "plt.title('layer std')\n",
    "\n",
    "# plot the raw distributions\n",
    "plt.figure()\n",
    "for i, H in Hs.iteritems():\n",
    "    plt.subplot(i, len(Hs), i+1)\n",
    "    plt.hist(H.ravel(), 30, range=(-1, 1))"
   ]
  },
  {
   "cell_type": "code",
   "execution_count": null,
   "id": "6f08f0ac-5f60-4815-abee-89fa0dd6f7f2",
   "metadata": {},
   "outputs": [],
   "source": []
  }
 ],
 "metadata": {
  "kernelspec": {
   "display_name": "Python 3 (ipykernel)",
   "language": "python",
   "name": "python3"
  },
  "language_info": {
   "codemirror_mode": {
    "name": "ipython",
    "version": 3
   },
   "file_extension": ".py",
   "mimetype": "text/x-python",
   "name": "python",
   "nbconvert_exporter": "python",
   "pygments_lexer": "ipython3",
   "version": "3.9.18"
  }
 },
 "nbformat": 4,
 "nbformat_minor": 5
}
